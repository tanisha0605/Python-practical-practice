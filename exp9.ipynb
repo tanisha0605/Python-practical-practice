{
 "cells": [
  {
   "cell_type": "markdown",
   "metadata": {},
   "source": [
    "Tanisha Kanal\n",
    "(I3-2) \n",
    "(I175)\n",
    "SAPID:60003220259"
   ]
  },
  {
   "cell_type": "markdown",
   "metadata": {},
   "source": [
    "Question 1:\n",
    "WAP to accept name and roll number of students and store it in file. Read and display the stored data. Accept/ display should be done using menu. Previous data should be retained and new data should be appended at the EOF. Also check if file exists or not."
   ]
  },
  {
   "cell_type": "code",
   "execution_count": 1,
   "metadata": {},
   "outputs": [
    {
     "name": "stdout",
     "output_type": "stream",
     "text": [
      "\n",
      "Menu:\n",
      "1. Write student data\n",
      "2. Read student data\n",
      "3. Exit\n",
      "Data written successfully!\n",
      "\n",
      "Menu:\n",
      "1. Write student data\n",
      "2. Read student data\n",
      "3. Exit\n",
      "Exiting program.\n"
     ]
    }
   ],
   "source": [
    "import os\n",
    "\n",
    "def write_data():\n",
    "    try:\n",
    "        with open(\"student_data.txt\", \"a\") as file:\n",
    "            name = input(\"Enter student name: \")\n",
    "            roll_number = input(\"Enter roll number: \")\n",
    "            file.write(f\"{name},{roll_number}\\n\")\n",
    "            print(\"Data written successfully!\")\n",
    "    except IOError:\n",
    "        print(\"Error writing to file.\")\n",
    "\n",
    "def read_data():\n",
    "    try:\n",
    "        with open(\"student_data.txt\", \"r\") as file:\n",
    "            data = file.readlines()\n",
    "            if not data:\n",
    "                print(\"No data available.\")\n",
    "            else:\n",
    "                print(\"Student Data:\")\n",
    "                for line in data:\n",
    "                    name, roll_number = line.strip().split(\",\")\n",
    "                    print(f\"Name: {name}, Roll Number: {roll_number}\")\n",
    "    except IOError:\n",
    "        print(\"Error reading file.\")\n",
    "\n",
    "def main():\n",
    "    while True:\n",
    "        print(\"\\nMenu:\")\n",
    "        print(\"1. Write student data\")\n",
    "        print(\"2. Read student data\")\n",
    "        print(\"3. Exit\")\n",
    "        choice = input(\"Enter your choice: \")\n",
    "\n",
    "        if choice == '1':\n",
    "            write_data()\n",
    "        elif choice == '2':\n",
    "            read_data()\n",
    "        elif choice == '3':\n",
    "            print(\"Exiting program.\")\n",
    "            break\n",
    "        else:\n",
    "            print(\"Invalid choice. Please enter again.\")\n",
    "\n",
    "if __name__ == \"__main__\":\n",
    "    if not os.path.exists(\"student_data.txt\"):\n",
    "        try:\n",
    "            with open(\"student_data.txt\", \"w\"):\n",
    "                pass\n",
    "        except IOError:\n",
    "            print(\"Error creating file.\")\n",
    "\n",
    "    main()\n"
   ]
  },
  {
   "cell_type": "markdown",
   "metadata": {},
   "source": [
    "Question 2:\n",
    "WAP to copy contents of 1 file to another after converting text to same case (upper/ lower). Let user specify name of source and destination files."
   ]
  },
  {
   "cell_type": "code",
   "execution_count": 4,
   "metadata": {},
   "outputs": [
    {
     "name": "stdout",
     "output_type": "stream",
     "text": [
      "File copied successfully!\n"
     ]
    }
   ],
   "source": [
    "def copy_file(source_file, destination_file, case):\n",
    "    try:\n",
    "        with open(source_file, 'r') as f_source:\n",
    "            with open(destination_file, 'w') as f_dest:\n",
    "                for line in f_source:\n",
    "                    if case == 'upper':\n",
    "                        f_dest.write(line.upper())\n",
    "                    elif case == 'lower':\n",
    "                        f_dest.write(line.lower())\n",
    "        print(\"File copied successfully!\")\n",
    "    except FileNotFoundError:\n",
    "        print(\"Source file not found!\")\n",
    "    except IOError:\n",
    "        print(\"Error occurred while copying the file!\")\n",
    "\n",
    "def main():\n",
    "    source_file = input(\"Enter the name of the source file: \")\n",
    "    destination_file = input(\"Enter the name of the destination file: \")\n",
    "\n",
    "    while True:\n",
    "        case = input(\"Enter 'upper' for uppercase or 'lower' for lowercase: \").lower()\n",
    "        if case == 'upper' or case == 'lower':\n",
    "            break\n",
    "        else:\n",
    "            print(\"Invalid input! Please enter 'upper' or 'lower'.\")\n",
    "\n",
    "    copy_file(source_file, destination_file, case)\n",
    "\n",
    "if __name__ == \"__main__\":\n",
    "    main()\n"
   ]
  },
  {
   "cell_type": "markdown",
   "metadata": {},
   "source": [
    "Question 3:\n",
    "Write a function in Python to read lines from a text file \"notes.txt\". Your function should find and display the occurrence of the word \"the\"."
   ]
  },
  {
   "cell_type": "code",
   "execution_count": 6,
   "metadata": {},
   "outputs": [
    {
     "name": "stdout",
     "output_type": "stream",
     "text": [
      "The word 'the' occurs 45 times in the file.\n"
     ]
    }
   ],
   "source": [
    "def find_occurrences(file_name):\n",
    "    try:\n",
    "        with open(file_name, 'r') as file:\n",
    "            occurrences = 0\n",
    "            for line in file:\n",
    "                words = line.strip().split()\n",
    "                for word in words:\n",
    "                    if word.lower() == 'the':\n",
    "                        occurrences += 1\n",
    "            print(f\"The word 'the' occurs {occurrences} times in the file.\")\n",
    "    except FileNotFoundError:\n",
    "        print(f\"File '{file_name}' not found.\")\n",
    "    except IOError:\n",
    "        print(f\"Error occurred while reading the file '{file_name}'.\")\n",
    "\n",
    "# Example usage:\n",
    "find_occurrences(\"notes.txt\")\n"
   ]
  },
  {
   "cell_type": "markdown",
   "metadata": {},
   "source": [
    "Question 4:\n",
    "Write a function in Python to count words in a text file those are ending with alphabet \"e\"."
   ]
  },
  {
   "cell_type": "code",
   "execution_count": 7,
   "metadata": {},
   "outputs": [
    {
     "name": "stdout",
     "output_type": "stream",
     "text": [
      "The number of words ending with 'e' in the file 'data4.txt' is: 49\n"
     ]
    }
   ],
   "source": [
    "def count_words_ending_with_e(file_name):\n",
    "    try:\n",
    "        with open(file_name, 'r') as file:\n",
    "            word_count = 0\n",
    "            for line in file:\n",
    "                words = line.strip().split()\n",
    "                for word in words:\n",
    "                    if word.endswith('e') or word.endswith('E'):  # Check if word ends with 'e' or 'E'\n",
    "                        word_count += 1\n",
    "            print(f\"The number of words ending with 'e' in the file '{file_name}' is: {word_count}\")\n",
    "    except FileNotFoundError:\n",
    "        print(f\"File '{file_name}' not found.\")\n",
    "    except IOError:\n",
    "        print(f\"Error occurred while reading the file '{file_name}'.\")\n",
    "\n",
    "# Example usage:\n",
    "count_words_ending_with_e(\"data4.txt\")\n"
   ]
  },
  {
   "cell_type": "markdown",
   "metadata": {},
   "source": [
    "Question 5:\n",
    "Write a function in Python to count uppercase character in a text file."
   ]
  },
  {
   "cell_type": "code",
   "execution_count": 8,
   "metadata": {},
   "outputs": [
    {
     "name": "stdout",
     "output_type": "stream",
     "text": [
      "The number of uppercase characters in the file 'data5.txt' is: 38\n"
     ]
    }
   ],
   "source": [
    "def count_uppercase_characters(file_name):\n",
    "    try:\n",
    "        with open(file_name, 'r') as file:\n",
    "            uppercase_count = 0\n",
    "            for line in file:\n",
    "                for char in line:\n",
    "                    if char.isupper():\n",
    "                        uppercase_count += 1\n",
    "            print(f\"The number of uppercase characters in the file '{file_name}' is: {uppercase_count}\")\n",
    "    except FileNotFoundError:\n",
    "        print(f\"File '{file_name}' not found.\")\n",
    "    except IOError:\n",
    "        print(f\"Error occurred while reading the file '{file_name}'.\")\n",
    "\n",
    "# Example usage:\n",
    "count_uppercase_characters(\"data5.txt\")\n"
   ]
  },
  {
   "cell_type": "markdown",
   "metadata": {},
   "source": [
    "Question 6:\n",
    "Write a function in python to read the content from a text file \"poem.txt\" line by\n",
    "line and display the same on screen."
   ]
  },
  {
   "cell_type": "code",
   "execution_count": 9,
   "metadata": {},
   "outputs": [
    {
     "name": "stdout",
     "output_type": "stream",
     "text": [
      "In Flanders fields the poppies blow\n",
      "Between the crosses, row on row,\n",
      "That mark our place; and in the sky\n",
      "The larks, still bravely singing, fly\n",
      "Scarce heard amid the guns below.\n",
      "\n",
      "We are the Dead. Short days ago\n",
      "We lived, felt dawn, saw sunset glow,\n",
      "Loved and were loved, and now we lie\n",
      "In Flanders fields.\n",
      "\n",
      "Take up our quarrel with the foe:\n",
      "To you from failing hands we throw\n",
      "The torch; be yours to hold it high.\n",
      "If ye break faith with us who die\n",
      "We shall not sleep, though poppies grow\n",
      "In Flanders fields.\n"
     ]
    }
   ],
   "source": [
    "def display_poem(file_name):\n",
    "    try:\n",
    "        with open(file_name, 'r') as file:\n",
    "            for line in file:\n",
    "                print(line.strip())\n",
    "    except FileNotFoundError:\n",
    "        print(f\"File '{file_name}' not found.\")\n",
    "    except IOError:\n",
    "        print(f\"Error occurred while reading the file '{file_name}'.\")\n",
    "\n",
    "# Example usage:\n",
    "display_poem(\"poem.txt\")"
   ]
  },
  {
   "cell_type": "markdown",
   "metadata": {},
   "source": [
    "Question 7:\n",
    "Write a Python program to read first n lines of a file."
   ]
  },
  {
   "cell_type": "code",
   "execution_count": 11,
   "metadata": {},
   "outputs": [
    {
     "name": "stdout",
     "output_type": "stream",
     "text": [
      "Lorem ipsum dolor sit amet, consectetur adipiscing elit.\n",
      "Sed fermentum lectus eget ipsum consequat, vitae interdum libero convallis.\n",
      "Nullam eget urna consequat, pulvinar ligula id, vulputate ipsum.\n",
      "Vestibulum ante ipsum primis in faucibus orci luctus et ultrices posuere cubilia Curae;\n",
      "In hac habitasse platea dictumst. Sed ut mauris nec dolor blandit malesuada.\n"
     ]
    }
   ],
   "source": [
    "def read_first_n_lines(file_name, n):\n",
    "    try:\n",
    "        with open(file_name, 'r') as file:\n",
    "            lines = file.readlines()\n",
    "            for i in range(min(n, len(lines))):\n",
    "                print(lines[i].strip())\n",
    "    except FileNotFoundError:\n",
    "        print(f\"File '{file_name}' not found.\")\n",
    "    except IOError:\n",
    "        print(f\"Error occurred while reading the file '{file_name}'.\")\n",
    "\n",
    "# Example usage:\n",
    "file_name = \"data7.txt\"\n",
    "n = 5  # Change this to the desired number of lines\n",
    "read_first_n_lines(file_name, n)\n"
   ]
  },
  {
   "cell_type": "markdown",
   "metadata": {},
   "source": [
    "Question 8 :\n",
    "Write a python program to find the longest word"
   ]
  },
  {
   "cell_type": "code",
   "execution_count": 1,
   "metadata": {},
   "outputs": [
    {
     "name": "stdout",
     "output_type": "stream",
     "text": [
      "File 'data8.txt' not found.\n"
     ]
    }
   ],
   "source": [
    "def find_longest_word(file_name):\n",
    "    try:\n",
    "        with open(file_name, 'r') as file:\n",
    "            words = file.read().split()\n",
    "            longest_word = max(words, key=len)\n",
    "            print(f\"The longest word in the file '{file_name}' is: {longest_word}\")\n",
    "    except FileNotFoundError:\n",
    "        print(f\"File '{file_name}' not found.\")\n",
    "    except IOError:\n",
    "        print(f\"Error occurred while reading the file '{file_name}'.\")\n",
    "\n",
    "# Example usage:\n",
    "find_longest_word(\"data8.txt\")\n"
   ]
  },
  {
   "cell_type": "markdown",
   "metadata": {},
   "source": [
    "Question 9:\n",
    "Write a Python program to count the frequency of words in a file."
   ]
  },
  {
   "cell_type": "code",
   "execution_count": 15,
   "metadata": {},
   "outputs": [
    {
     "name": "stdout",
     "output_type": "stream",
     "text": [
      "The: 29\n",
      "quick: 1\n",
      "brown: 1\n",
      "fox: 1\n",
      "jumps: 1\n",
      "over: 1\n",
      "the: 16\n",
      "lazy: 1\n",
      "dog: 2\n",
      "barks: 1\n",
      "at: 1\n",
      "moon: 2\n",
      "is: 7\n",
      "bright: 2\n",
      "in: 6\n",
      "night: 5\n",
      "sky: 3\n",
      "stars: 1\n",
      "twinkle: 1\n",
      "above: 1\n",
      "clear: 1\n",
      "tonight: 1\n",
      "trees: 1\n",
      "sway: 1\n",
      "gently: 1\n",
      "breeze: 1\n",
      "wind: 1\n",
      "whispers: 1\n",
      "through: 1\n",
      "leaves: 1\n",
      "river: 1\n",
      "flows: 1\n",
      "quietly: 1\n",
      "nearby: 1\n",
      "birds: 2\n",
      "chirp: 2\n",
      "as: 1\n",
      "they: 1\n",
      "settle: 1\n",
      "down: 1\n",
      "for: 1\n",
      "world: 3\n",
      "peaceful: 1\n",
      "under: 1\n",
      "moonlight: 2\n",
      "sound: 1\n",
      "of: 6\n",
      "water: 1\n",
      "lulls: 1\n",
      "me: 2\n",
      "to: 2\n",
      "sleep: 1\n",
      "crickets: 1\n",
      "darkness: 1\n",
      "calm: 1\n",
      "and: 3\n",
      "serene: 1\n",
      "tranquility: 1\n",
      "soothes: 1\n",
      "my: 2\n",
      "soul: 1\n",
      "soft: 1\n",
      "glow: 1\n",
      "fills: 1\n",
      "room: 1\n",
      "passes: 1\n",
      "by: 1\n",
      "silence: 1\n",
      "morning: 2\n",
      "sun: 3\n",
      "rises: 1\n",
      "east: 1\n",
      "dawn: 1\n",
      "brings: 1\n",
      "a: 2\n",
      "new: 1\n",
      "day: 3\n",
      "sing: 1\n",
      "their: 1\n",
      "song: 1\n",
      "begins: 2\n",
      "with: 2\n",
      "hope: 1\n",
      "promise: 1\n",
      "shines: 1\n",
      "brightly: 1\n",
      "warmth: 1\n",
      "envelops: 1\n",
      "full: 2\n",
      "possibilities: 2\n",
      "awaits: 1\n",
      "adventures: 1\n",
      "journey: 1\n",
      "single: 1\n",
      "step: 1\n",
      "future: 1\n",
      "opportunities: 1\n",
      "are: 1\n",
      "endless: 1\n",
      "mine: 1\n",
      "explore: 1\n",
      "sky's: 1\n",
      "limit: 1\n"
     ]
    }
   ],
   "source": [
    "def count_word_frequency(file_name):\n",
    "    try:\n",
    "        with open(file_name, 'r') as file:\n",
    "            word_freq = {}\n",
    "            for line in file:\n",
    "                words = line.split()\n",
    "                for word in words:\n",
    "                    word = word.strip(\",.!?;:\")  # Remove punctuation marks\n",
    "                    if word in word_freq:\n",
    "                        word_freq[word] += 1\n",
    "                    else:\n",
    "                        word_freq[word] = 1\n",
    "\n",
    "            # Print word frequencies\n",
    "            for word, freq in word_freq.items():\n",
    "                print(f\"{word}: {freq}\")\n",
    "    except FileNotFoundError:\n",
    "        print(f\"File '{file_name}' not found.\")\n",
    "    except IOError:\n",
    "        print(f\"Error occurred while reading the file '{file_name}'.\")\n",
    "\n",
    "# Example usage:\n",
    "count_word_frequency(\"data9.txt\")\n"
   ]
  },
  {
   "cell_type": "markdown",
   "metadata": {},
   "source": [
    "Question 10:\n",
    "Write a function in python to count the number of lines from a text file \"story.txt\"\n",
    "which is not starting with an alphabet \"T\"."
   ]
  },
  {
   "cell_type": "code",
   "execution_count": 16,
   "metadata": {},
   "outputs": [
    {
     "name": "stdout",
     "output_type": "stream",
     "text": [
      "The number of lines not starting with 'T' in the file 'story.txt' is: 3\n"
     ]
    }
   ],
   "source": [
    "def count_lines_not_starting_with_T(file_name):\n",
    "    try:\n",
    "        with open(file_name, 'r') as file:\n",
    "            line_count = 0\n",
    "            for line in file:\n",
    "                if not line.strip().startswith('T'):\n",
    "                    line_count += 1\n",
    "            print(f\"The number of lines not starting with 'T' in the file '{file_name}' is: {line_count}\")\n",
    "    except FileNotFoundError:\n",
    "        print(f\"File '{file_name}' not found.\")\n",
    "    except IOError:\n",
    "        print(f\"Error occurred while reading the file '{file_name}'.\")\n",
    "\n",
    "# Example usage:\n",
    "count_lines_not_starting_with_T(\"story.txt\")\n"
   ]
  }
 ],
 "metadata": {
  "kernelspec": {
   "display_name": "Python 3",
   "language": "python",
   "name": "python3"
  },
  "language_info": {
   "codemirror_mode": {
    "name": "ipython",
    "version": 3
   },
   "file_extension": ".py",
   "mimetype": "text/x-python",
   "name": "python",
   "nbconvert_exporter": "python",
   "pygments_lexer": "ipython3",
   "version": "3.12.1"
  }
 },
 "nbformat": 4,
 "nbformat_minor": 2
}
