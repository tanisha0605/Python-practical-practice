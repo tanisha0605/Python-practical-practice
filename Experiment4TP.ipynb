{
  "cells": [
    {
      "cell_type": "markdown",
      "metadata": {
        "id": "7CD6jU_fTWgN"
      },
      "source": [
        "# **Question 1**"
      ]
    },
    {
      "cell_type": "markdown",
      "metadata": {
        "id": "E5WIuB6eT3oC"
      },
      "source": [
        "WA function to calculate arithmetic mean of variable number of values"
      ]
    },
    {
      "cell_type": "code",
      "execution_count": 1,
      "metadata": {
        "colab": {
          "base_uri": "https://localhost:8080/"
        },
        "id": "J-vtja_XTbK9",
        "outputId": "5872435a-3caf-4c30-e20d-3f1566740d07"
      },
      "outputs": [
        {
          "name": "stdout",
          "output_type": "stream",
          "text": [
            "6.222222222222222\n"
          ]
        }
      ],
      "source": [
        "import functools as ft\n",
        "def mean(*args):\n",
        "  sum=ft.reduce(lambda x,y:x+y,args)\n",
        "  mean=sum/len(args)\n",
        "  print(mean)\n",
        "\n",
        "mean(2,3,4,5,6,7,8,9,12)"
      ]
    },
    {
      "cell_type": "markdown",
      "metadata": {
        "id": "j_lryjK2Tbjt"
      },
      "source": [
        "# **Question 2**"
      ]
    },
    {
      "cell_type": "markdown",
      "metadata": {
        "id": "lHLmlFVnT41y"
      },
      "source": [
        "WA lambda function to find largest of 2 numbers"
      ]
    },
    {
      "cell_type": "code",
      "execution_count": null,
      "metadata": {
        "colab": {
          "base_uri": "https://localhost:8080/"
        },
        "id": "Qsh4ScvfTdIl",
        "outputId": "17dac910-162f-4c73-af74-a58e33f77533"
      },
      "outputs": [
        {
          "name": "stdout",
          "output_type": "stream",
          "text": [
            "7\n"
          ]
        }
      ],
      "source": [
        "x=lambda a,b: max(a,b)\n",
        "\n",
        "print(x(5,7))"
      ]
    },
    {
      "cell_type": "markdown",
      "metadata": {
        "id": "9IbAJH4TTdWd"
      },
      "source": [
        "# **Question 3**"
      ]
    },
    {
      "cell_type": "markdown",
      "metadata": {
        "id": "qFzP19UzUG-S"
      },
      "source": [
        "Use lambda function to return a square value of a given number."
      ]
    },
    {
      "cell_type": "code",
      "execution_count": null,
      "metadata": {
        "colab": {
          "base_uri": "https://localhost:8080/"
        },
        "id": "-iRuk9isTe-d",
        "outputId": "d030f53f-73e0-40fa-f0eb-0c7858b3244f"
      },
      "outputs": [
        {
          "name": "stdout",
          "output_type": "stream",
          "text": [
            "25\n"
          ]
        }
      ],
      "source": [
        "x=lambda a:a*a\n",
        "\n",
        "print(x(5))"
      ]
    },
    {
      "cell_type": "markdown",
      "metadata": {
        "id": "m3eIt4H-UTdh"
      },
      "source": [
        "# **Question 4**"
      ]
    },
    {
      "cell_type": "markdown",
      "metadata": {
        "id": "QG_2echiUYBy"
      },
      "source": [
        "Write a program using filter() to filter out even numbers from a list."
      ]
    },
    {
      "cell_type": "code",
      "execution_count": null,
      "metadata": {
        "colab": {
          "base_uri": "https://localhost:8080/"
        },
        "id": "69vIQJpTUbMB",
        "outputId": "55e348ac-d891-4750-de53-411622d0d9d7"
      },
      "outputs": [
        {
          "name": "stdout",
          "output_type": "stream",
          "text": [
            "[2, 32, 4, 6, 66, 88, 100]\n"
          ]
        }
      ],
      "source": [
        "import builtins\n",
        "numbers=[11,2,32,4,15,6,66,77,88,99,100]\n",
        "\n",
        "evens=filter(lambda x:x%2 == 0,numbers)\n",
        "\n",
        "print(builtins.list(evens))"
      ]
    },
    {
      "cell_type": "markdown",
      "metadata": {
        "id": "iMnf3u_VUbry"
      },
      "source": [
        "# **Question 5**"
      ]
    },
    {
      "cell_type": "markdown",
      "metadata": {
        "id": "8tQkZOkNUexH"
      },
      "source": [
        "Write a program using map() to filter out even numbers from a list."
      ]
    },
    {
      "cell_type": "code",
      "execution_count": null,
      "metadata": {
        "colab": {
          "base_uri": "https://localhost:8080/"
        },
        "id": "YYV9JIi_Ujm-",
        "outputId": "6b158023-9ebc-4cbc-ff3d-ee12a2a658e2"
      },
      "outputs": [
        {
          "name": "stdout",
          "output_type": "stream",
          "text": [
            "2\n",
            "32\n",
            "4\n",
            "6\n",
            "66\n",
            "88\n",
            "100\n"
          ]
        }
      ],
      "source": [
        "import builtins\n",
        "numbers=[11,2,32,4,15,6,66,77,88,99,100]\n",
        "even = builtins.list(map(lambda a:a%2==0,numbers))\n",
        "enum_even = enumerate(even)\n",
        "\n",
        "for i,is_even in enum_even:\n",
        "  if is_even:\n",
        "    print (numbers[i])\n",
        "  else:\n",
        "    continue"
      ]
    },
    {
      "cell_type": "markdown",
      "metadata": {
        "id": "vr53ICHOUj68"
      },
      "source": [
        "# **Question 6**"
      ]
    },
    {
      "cell_type": "markdown",
      "metadata": {
        "id": "hpuPvVTiUllT"
      },
      "source": [
        "Write a program using reduce() with a lambda expression to find product of elements in a list."
      ]
    },
    {
      "cell_type": "code",
      "execution_count": null,
      "metadata": {
        "colab": {
          "base_uri": "https://localhost:8080/"
        },
        "id": "P6eZqacIVGFF",
        "outputId": "11fe2d96-2807-4130-c476-2acd87481adb"
      },
      "outputs": [
        {
          "name": "stdout",
          "output_type": "stream",
          "text": [
            "3628800\n"
          ]
        }
      ],
      "source": [
        "import functools\n",
        "\n",
        "list=[1,2,3,4,5,6,7,8,9,10]\n",
        "\n",
        "print(functools.reduce(lambda a,b:a*b,list))"
      ]
    }
  ],
  "metadata": {
    "colab": {
      "provenance": []
    },
    "kernelspec": {
      "display_name": "Python 3",
      "name": "python3"
    },
    "language_info": {
      "codemirror_mode": {
        "name": "ipython",
        "version": 3
      },
      "file_extension": ".py",
      "mimetype": "text/x-python",
      "name": "python",
      "nbconvert_exporter": "python",
      "pygments_lexer": "ipython3",
      "version": "3.12.1"
    }
  },
  "nbformat": 4,
  "nbformat_minor": 0
}
