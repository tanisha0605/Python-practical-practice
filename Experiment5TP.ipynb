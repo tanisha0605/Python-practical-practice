{
  "cells": [
    {
      "cell_type": "markdown",
      "metadata": {
        "id": "YsCjDlEMe_jx"
      },
      "source": [
        "# **Question 1**"
      ]
    },
    {
      "cell_type": "markdown",
      "metadata": {
        "id": "VIlDm4YEeojV"
      },
      "source": [
        "## Define a method in the inner class and access the same by code outside the outer class"
      ]
    },
    {
      "cell_type": "code",
      "execution_count": 1,
      "metadata": {
        "colab": {
          "base_uri": "https://localhost:8080/"
        },
        "id": "DOZ5K3yveywl",
        "outputId": "7b982486-dfc8-46b8-d0c9-c3464f6f46b9"
      },
      "outputs": [
        {
          "name": "stdout",
          "output_type": "stream",
          "text": [
            "This is the inner method\n"
          ]
        }
      ],
      "source": [
        "class OuterClass:\n",
        "    def __init__(self):\n",
        "        self.inner_instance = self.InnerClass()\n",
        "\n",
        "    class InnerClass:\n",
        "        def inner_method(self):\n",
        "            print(\"This is the inner method\")\n",
        "\n",
        "\n",
        "outer_instance = OuterClass()\n",
        "outer_instance.inner_instance.inner_method()\n"
      ]
    },
    {
      "cell_type": "markdown",
      "metadata": {
        "id": "gs8TLqlbfNX8"
      },
      "source": [
        "# **Question 2**"
      ]
    },
    {
      "cell_type": "markdown",
      "metadata": {
        "id": "AcVysC3fezFs"
      },
      "source": [
        "## Create a class Rectangle. The class has 2 attributes, length and width, each of which defaults to 0. It has methods to calculate the perimeter and area of the rectangle. It has set and get methods for both length and width. The set method should verify that length and width are floating point numbers larger than 0.0 and less than 20.0"
      ]
    },
    {
      "cell_type": "code",
      "execution_count": null,
      "metadata": {
        "colab": {
          "base_uri": "https://localhost:8080/"
        },
        "id": "-aRSusNme2zU",
        "outputId": "71983cec-1fab-4c92-95e3-4e40ce72e094"
      },
      "outputs": [
        {
          "name": "stdout",
          "output_type": "stream",
          "text": [
            "Perimeter: 6.7\n",
            "Area: 2.475\n"
          ]
        }
      ],
      "source": [
        "class Rectangle:\n",
        "  def __init__(self):\n",
        "    self._length=0.0\n",
        "    self._width=0.0\n",
        "\n",
        "  def get_length(self):\n",
        "    return self._length\n",
        "\n",
        "  def set_length(self, length):\n",
        "    if isinstance(length, (float, int)) and 0.0 < length < 20.0:\n",
        "        self._length = float(length)\n",
        "    else:\n",
        "        print(\"Length must be a floating-point number between 0.0 and 20.0\")\n",
        "\n",
        "  def get_width(self):\n",
        "    return self._width\n",
        "\n",
        "  def set_width(self, width):\n",
        "    if isinstance(width, (float, int)) and 0.0 < width < 20.0:\n",
        "        self._width = float(width)\n",
        "    else:\n",
        "        print(\"Width must be a floating-point number between 0.0 and 20.0\")\n",
        "\n",
        "  def perimeter(self):\n",
        "    return 2*(self._length+self._width)\n",
        "\n",
        "  def area(self):\n",
        "    return self._length*self._width\n",
        "\n",
        "rectangle = Rectangle()\n",
        "rectangle.set_length(1.1)\n",
        "rectangle.set_width(2.25)\n",
        "print(\"Perimeter:\", rectangle.perimeter())\n",
        "print(\"Area:\", rectangle.area())\n"
      ]
    },
    {
      "cell_type": "markdown",
      "metadata": {
        "id": "xJOEWL4nfPY8"
      },
      "source": [
        "# **Question 3**"
      ]
    },
    {
      "cell_type": "markdown",
      "metadata": {
        "id": "Y48v7zNFe3MU"
      },
      "source": [
        "## WAP to arrange the names of students in descending order of their totalmarks, input data consists of student’s details such as names, ID. no, marks of math, physics, and chemistry."
      ]
    },
    {
      "cell_type": "code",
      "execution_count": null,
      "metadata": {
        "id": "QZCkuDUpe7oJ"
      },
      "outputs": [],
      "source": [
        "class Student:\n",
        "    def __init__(self, name, id_no, math_marks, physics_marks, chemistry_marks):\n",
        "        self.name = name\n",
        "        self.id_no = id_no\n",
        "        self.math_marks = math_marks\n",
        "        self.physics_marks = physics_marks\n",
        "        self.chemistry_marks = chemistry_marks\n",
        "\n",
        "    def total_marks(self):\n",
        "        return self.math_marks + self.physics_marks + self.chemistry_marks\n",
        "\n",
        "\n",
        "# Function to sort students based on total marks in descending order\n",
        "def sort_students_by_total_marks(students):\n",
        "    return sorted(students, key=lambda x: x.total_marks(), reverse=True)\n",
        "\n",
        "\n",
        "# Input student details\n",
        "students = []\n",
        "n = int(input(\"Enter the number of students: \"))\n",
        "for i in range(n):\n",
        "    name = input(\"Enter name of student {}: \".format(i + 1))\n",
        "    id_no = int(input(\"Enter ID number of student {}: \".format(i + 1)))\n",
        "    math_marks = float(input(\"Enter math marks of student {}: \".format(i + 1)))\n",
        "    physics_marks = float(input(\"Enter physics marks of student {}: \".format(i + 1)))\n",
        "    chemistry_marks = float(input(\"Enter chemistry marks of student {}: \".format(i + 1)))\n",
        "    students.append(Student(name, id_no, math_marks, physics_marks, chemistry_marks))\n",
        "\n",
        "# Sort students by total marks\n",
        "sorted_students = sort_students_by_total_marks(students)\n",
        "\n",
        "# Display students in descending order of total marks\n",
        "print(\"\\nStudents arranged in descending order of total marks:\")\n",
        "for student in sorted_students:\n",
        "    print(\"Name:\", student.name)\n",
        "    print(\"ID Number:\", student.id_no)\n",
        "    print(\"Total Marks:\", student.total_marks())\n",
        "    print()\n"
      ]
    },
    {
      "cell_type": "markdown",
      "metadata": {
        "id": "hEQzH05KfJs8"
      },
      "source": [
        "# **Question 4**"
      ]
    },
    {
      "cell_type": "markdown",
      "metadata": {
        "id": "Y8K6NyYxe7yB"
      },
      "source": [
        "## WAP to display area of square and rectangle using constructor."
      ]
    },
    {
      "cell_type": "code",
      "execution_count": null,
      "metadata": {
        "colab": {
          "base_uri": "https://localhost:8080/"
        },
        "id": "StO4I38ae-cS",
        "outputId": "04665870-ecb9-430d-9712-04b00bbf14ba"
      },
      "outputs": [
        {
          "name": "stdout",
          "output_type": "stream",
          "text": [
            "Area of square: 36\n",
            "Area of rectangle: 32\n"
          ]
        }
      ],
      "source": [
        "class Shape:\n",
        "    def __init__(self, length, width=None):\n",
        "        self.length = length\n",
        "        self.width = width\n",
        "\n",
        "    def area(self):\n",
        "        if self.width is None:      # If width is not provided, it's a square\n",
        "            return self.length ** 2\n",
        "        else:                       # If width is provided, it's a rectangle\n",
        "            return self.length * self.width\n",
        "\n",
        "square=Shape(6)\n",
        "rectangle=Shape(4,8)\n",
        "\n",
        "print(\"Area of square:\",square.area())\n",
        "print(\"Area of rectangle:\",rectangle.area())"
      ]
    },
    {
      "cell_type": "code",
      "execution_count": null,
      "metadata": {
        "id": "9dPqMKkPtGo2"
      },
      "outputs": [],
      "source": []
    }
  ],
  "metadata": {
    "colab": {
      "provenance": []
    },
    "kernelspec": {
      "display_name": "Python 3",
      "name": "python3"
    },
    "language_info": {
      "codemirror_mode": {
        "name": "ipython",
        "version": 3
      },
      "file_extension": ".py",
      "mimetype": "text/x-python",
      "name": "python",
      "nbconvert_exporter": "python",
      "pygments_lexer": "ipython3",
      "version": "3.12.1"
    }
  },
  "nbformat": 4,
  "nbformat_minor": 0
}
