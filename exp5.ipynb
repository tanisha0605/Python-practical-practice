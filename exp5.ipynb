{
  "cells": [
    {
      "cell_type": "markdown",
      "metadata": {
        "id": "S8X0280Qp88f"
      },
      "source": [
        "# **Question 1**"
      ]
    },
    {
      "cell_type": "markdown",
      "metadata": {
        "id": "v8HxFEoYp_7P"
      },
      "source": [
        "Write a Python program to create a person class. Include attributes like name, country and date of birth. Implement a method to\n",
        "determine the person's age"
      ]
    },
    {
      "cell_type": "code",
      "execution_count": 1,
      "metadata": {
        "colab": {
          "base_uri": "https://localhost:8080/"
        },
        "id": "vRdpB_V6qDFa",
        "outputId": "1085b9d0-ce69-438b-c6a3-8e09aa31f2e5"
      },
      "outputs": [
        {
          "name": "stdout",
          "output_type": "stream",
          "text": [
            "Tanisha is 20 years old.\n"
          ]
        }
      ],
      "source": [
        "from datetime import datetime\n",
        "\n",
        "class Person:\n",
        "    def __init__(self, name, country, dob):\n",
        "        self.name = name\n",
        "        self.country = country\n",
        "        self.dob = dob\n",
        "\n",
        "    def age(self):\n",
        "        return datetime.now().year - self.dob.year\n",
        "\n",
        "# Example usage:\n",
        "name = input(\"Enter name: \")\n",
        "country = input(\"Enter country: \")\n",
        "dob = datetime.strptime(input(\"Enter date of birth (YYYY-MM-DD): \"), \"%Y-%m-%d\")\n",
        "\n",
        "person = Person(name, country, dob)\n",
        "print(f\"{person.name} is {person.age()} years old.\")\n",
        "\n"
      ]
    },
    {
      "cell_type": "markdown",
      "metadata": {
        "id": "eL_J6HMqrTYe"
      },
      "source": [
        "# **Question 2**"
      ]
    },
    {
      "cell_type": "markdown",
      "metadata": {
        "id": "k7O5bOWErWA2"
      },
      "source": [
        "Create a class Rectangle. The class has 2 attributes, length and width, each of which defaults to 0. It has methods to calculate the perimeter and area of the rectangle. It has set and get methods for both length and width. The set method should verify that length and width are floating point numbers larger than 0.0 and less than 20.0"
      ]
    },
    {
      "cell_type": "code",
      "execution_count": null,
      "metadata": {
        "colab": {
          "base_uri": "https://localhost:8080/"
        },
        "id": "g0zDxslprjdI",
        "outputId": "4ee7d652-75fe-45c8-da7c-9836ea5e9750"
      },
      "outputs": [
        {
          "name": "stdout",
          "output_type": "stream",
          "text": [
            "Perimeter: 6.7\n",
            "Area: 2.475\n"
          ]
        }
      ],
      "source": [
        "class Rectangle:\n",
        "  def __init__(self):\n",
        "    self._length=0.0\n",
        "    self._width=0.0\n",
        "\n",
        "  def get_length(self):\n",
        "    return self._length\n",
        "\n",
        "  def set_length(self, length):\n",
        "    if isinstance(length, (float, int)) and 0.0 < length < 20.0:\n",
        "        self._length = float(length)\n",
        "    else:\n",
        "        print(\"Length must be a floating-point number between 0.0 and 20.0\")\n",
        "\n",
        "  def get_width(self):\n",
        "    return self._width\n",
        "\n",
        "  def set_width(self, width):\n",
        "    if isinstance(width, (float, int)) and 0.0 < width < 20.0:\n",
        "        self._width = float(width)\n",
        "    else:\n",
        "        print(\"Width must be a floating-point number between 0.0 and 20.0\")\n",
        "\n",
        "  def perimeter(self):\n",
        "    return 2*(self._length+self._width)\n",
        "\n",
        "  def area(self):\n",
        "    return self._length*self._width\n",
        "\n",
        "rectangle = Rectangle()\n",
        "rectangle.set_length(1.1)\n",
        "rectangle.set_width(2.25)\n",
        "print(\"Perimeter:\", rectangle.perimeter())\n",
        "print(\"Area:\", rectangle.area())"
      ]
    },
    {
      "cell_type": "markdown",
      "metadata": {
        "id": "0_hjce1zrYWG"
      },
      "source": [
        "# **Question 3**"
      ]
    },
    {
      "cell_type": "markdown",
      "metadata": {
        "id": "xN0FAUEXrbVO"
      },
      "source": [
        "WAP to arrange the names of students in descending order of their totalmarks, input data consists of student’s details such as names, ID. no, marks of math, physics, and chemistry."
      ]
    },
    {
      "cell_type": "code",
      "execution_count": null,
      "metadata": {
        "colab": {
          "base_uri": "https://localhost:8080/"
        },
        "id": "l7CZaWimrvEF",
        "outputId": "c201b77a-133b-457f-e563-c71761411c52"
      },
      "outputs": [
        {
          "name": "stdout",
          "output_type": "stream",
          "text": [
            "Enter the number of students: 2\n",
            "Enter name of student 1: Harry\n",
            "Enter ID number of student 1: 98\n",
            "Enter math marks of student 1: 80\n",
            "Enter physics marks of student 1: 88\n",
            "Enter chemistry marks of student 1: 87\n",
            "Enter name of student 2: Tanisha\n",
            "Enter ID number of student 2: 81\n",
            "Enter math marks of student 2: 90\n",
            "Enter physics marks of student 2: 99\n",
            "Enter chemistry marks of student 2: 88\n",
            "\n",
            "Students arranged in descending order of total marks:\n",
            "Name: Tanisha\n",
            "ID Number: 81\n",
            "Total Marks: 277.0\n",
            "\n",
            "Name: Harry\n",
            "ID Number: 98\n",
            "Total Marks: 255.0\n",
            "\n"
          ]
        }
      ],
      "source": [
        "class Student:\n",
        "    def __init__(self, name, id_no, math_marks, physics_marks, chemistry_marks):\n",
        "        self.name = name\n",
        "        self.id_no = id_no\n",
        "        self.math_marks = math_marks\n",
        "        self.physics_marks = physics_marks\n",
        "        self.chemistry_marks = chemistry_marks\n",
        "\n",
        "    def total_marks(self):\n",
        "        return sum([self.math_marks, self.physics_marks, self.chemistry_marks])\n",
        "\n",
        "\n",
        "students = []\n",
        "n = int(input(\"Enter the number of students: \"))\n",
        "for i in range(n):\n",
        "    name = input(f\"Enter name of student {i + 1}: \")\n",
        "    id_no = int(input(f\"Enter ID number of student {i + 1}: \"))\n",
        "    math_marks = float(input(f\"Enter math marks of student {i + 1}: \"))\n",
        "    physics_marks = float(input(f\"Enter physics marks of student {i + 1}: \"))\n",
        "    chemistry_marks = float(input(f\"Enter chemistry marks of student {i + 1}: \"))\n",
        "    students.append(Student(name, id_no, math_marks, physics_marks, chemistry_marks))\n",
        "\n",
        "\n",
        "sorted_students = sorted(students, key=lambda x: x.total_marks(), reverse=True)\n",
        "\n",
        "\n",
        "print(\"\\nStudents arranged in descending order of total marks:\")\n",
        "for student in sorted_students:\n",
        "    print(f\"Name: {student.name}\")\n",
        "    print(f\"ID Number: {student.id_no}\")\n",
        "    print(f\"Total Marks: {student.total_marks()}\\n\")\n"
      ]
    },
    {
      "cell_type": "markdown",
      "metadata": {
        "id": "3Wd7c_-CreTO"
      },
      "source": [
        "# **Question 4**"
      ]
    },
    {
      "cell_type": "markdown",
      "metadata": {
        "id": "ZIEBe7WLrg7m"
      },
      "source": [
        "WAP to display area of square and rectangle using constructor."
      ]
    },
    {
      "cell_type": "code",
      "execution_count": null,
      "metadata": {
        "colab": {
          "base_uri": "https://localhost:8080/"
        },
        "id": "0tl_qkHIryLe",
        "outputId": "6593902d-da48-47f8-8137-6db482804dfe"
      },
      "outputs": [
        {
          "name": "stdout",
          "output_type": "stream",
          "text": [
            "Area of square: 36\n",
            "Area of rectangle: 32\n"
          ]
        }
      ],
      "source": [
        "class Shape:\n",
        "    def __init__(self, length, width=None):\n",
        "        self.length = length\n",
        "        self.width = width\n",
        "\n",
        "    def area(self):\n",
        "        if self.width is None:\n",
        "            return self.length ** 2\n",
        "        else:\n",
        "            return self.length * self.width\n",
        "\n",
        "square=Shape(6)\n",
        "rectangle=Shape(4,8)\n",
        "\n",
        "print(\"Area of square:\",square.area())\n",
        "print(\"Area of rectangle:\",rectangle.area())"
      ]
    },
    {
      "cell_type": "markdown",
      "metadata": {
        "id": "PifSiB20p3rn"
      },
      "source": [
        "# **Question 5**"
      ]
    },
    {
      "cell_type": "markdown",
      "metadata": {
        "id": "B-x68VyHpwNP"
      },
      "source": [
        "Write a Python program to create a class representing a shopping cart. Include methods for adding and removing items, and calculating\n",
        "the total price.\n"
      ]
    },
    {
      "cell_type": "code",
      "execution_count": null,
      "metadata": {
        "colab": {
          "base_uri": "https://localhost:8080/"
        },
        "id": "CAehU8dHpc-O",
        "outputId": "c8800190-986c-4cfe-9062-fba940b1c346"
      },
      "outputs": [
        {
          "name": "stdout",
          "output_type": "stream",
          "text": [
            "Total Price: 76.9\n",
            "Total Price after removing Banana: 54.2\n"
          ]
        }
      ],
      "source": [
        "class ShoppingCart:\n",
        "    def __init__(self):\n",
        "        self.items = {}\n",
        "\n",
        "    def add_item(self, item, price):\n",
        "        if item in self.items:\n",
        "            self.items[item] += price\n",
        "        else:\n",
        "            self.items[item] = price\n",
        "\n",
        "    def remove_item(self, item):\n",
        "        if item in self.items:\n",
        "            del self.items[item]\n",
        "        else:\n",
        "            print(f\"{item} is not in the cart.\")\n",
        "\n",
        "    def calculate_total_price(self):\n",
        "        total_price = sum(self.items.values())\n",
        "        return total_price\n",
        "\n",
        "\n",
        "cart=ShoppingCart()\n",
        "\n",
        "cart.add_item(\"Banana\",22.7)\n",
        "cart.add_item(\"Apple\",20.2)\n",
        "cart.add_item(\"Cherry\",13.0)\n",
        "cart.add_item(\"Cherry\",21)\n",
        "\n",
        "print(\"Total Price:\", cart.calculate_total_price())\n",
        "\n",
        "cart.remove_item(\"Banana\")\n",
        "\n",
        "print(\"Total Price after removing Banana:\", cart.calculate_total_price())\n"
      ]
    }
  ],
  "metadata": {
    "colab": {
      "provenance": []
    },
    "kernelspec": {
      "display_name": "Python 3",
      "name": "python3"
    },
    "language_info": {
      "codemirror_mode": {
        "name": "ipython",
        "version": 3
      },
      "file_extension": ".py",
      "mimetype": "text/x-python",
      "name": "python",
      "nbconvert_exporter": "python",
      "pygments_lexer": "ipython3",
      "version": "3.12.1"
    }
  },
  "nbformat": 4,
  "nbformat_minor": 0
}
