{
  "cells": [
    {
      "cell_type": "markdown",
      "metadata": {
        "id": "zyaa19wQjO3c"
      },
      "source": [
        "# **A) Decision-making statements**"
      ]
    },
    {
      "cell_type": "markdown",
      "metadata": {
        "id": "nZTupXAxjSl6"
      },
      "source": [
        "# **Question 1**"
      ]
    },
    {
      "cell_type": "code",
      "execution_count": null,
      "metadata": {
        "colab": {
          "base_uri": "https://localhost:8080/"
        },
        "id": "7QacFbnnjV7k",
        "outputId": "414c9b0c-15e3-4d21-be85-dc8f7215a025"
      },
      "outputs": [
        {
          "name": "stdout",
          "output_type": "stream",
          "text": [
            "Enter x1:0\n",
            "Enter x2:0\n",
            "Enter y1:7.8\n",
            "Enter y2:9\n",
            "Vertical Line\n"
          ]
        }
      ],
      "source": [
        "x1=float(input(\"Enter x1:\"))\n",
        "x2=float(input(\"Enter x2:\"))\n",
        "y1=float(input(\"Enter y1:\"))\n",
        "y2=float(input(\"Enter y2:\"))\n",
        "\n",
        "try:\n",
        "  Slope=float((y2-y1)/(x2-x1))\n",
        "  if Slope>0:\n",
        "    print(\"The slope is positive\")\n",
        "  elif Slope<0:\n",
        "    print(\"The slope is negative\")\n",
        "  else:\n",
        "    print(\"Horizontal Line\")\n",
        "except ZeroDivisionError:\n",
        "  print(\"Vertical Line\")"
      ]
    },
    {
      "cell_type": "markdown",
      "metadata": {
        "id": "nJfzQOXy-7Pf"
      },
      "source": [
        "# **Question 2**"
      ]
    },
    {
      "cell_type": "code",
      "execution_count": null,
      "metadata": {
        "colab": {
          "base_uri": "https://localhost:8080/"
        },
        "id": "dkC0BWmR_N3T",
        "outputId": "95b8a092-c044-43cc-a9d9-315ff20233c6"
      },
      "outputs": [
        {
          "name": "stdout",
          "output_type": "stream",
          "text": [
            "Celsius   Fahrenheit\n",
            "--------------------\n",
            "20.00     68.00     \n",
            "19.00     66.20     \n",
            "18.00     64.40     \n",
            "17.00     62.60     \n",
            "16.00     60.80     \n",
            "15.00     59.00     \n",
            "14.00     57.20     \n",
            "13.00     55.40     \n",
            "12.00     53.60     \n",
            "11.00     51.80     \n",
            "10.00     50.00     \n"
          ]
        }
      ],
      "source": [
        "celsius = 20\n",
        "\n",
        "print(\"Celsius   Fahrenheit\")\n",
        "print(\"--------------------\")\n",
        "\n",
        "while celsius >= 10:\n",
        "    fahrenheit = (9 / 5) * celsius + 32\n",
        "    print(f\"{celsius:<9.2f} {fahrenheit:<10.2f}\")\n",
        "    celsius -= 1\n"
      ]
    },
    {
      "cell_type": "markdown",
      "metadata": {
        "id": "PXL0khbx_4VO"
      },
      "source": [
        "# **Question 3**"
      ]
    },
    {
      "cell_type": "code",
      "execution_count": 6,
      "metadata": {
        "colab": {
          "base_uri": "https://localhost:8080/"
        },
        "id": "glriMSOy_3Xq",
        "outputId": "ccad0d62-028a-4be6-e3c8-16dde86fbd6e"
      },
      "outputs": [
        {
          "name": "stdout",
          "output_type": "stream",
          "text": [
            "[(11, 1), (12, 2), (14, 2), (7, 2), (13, 4)]\n"
          ]
        }
      ],
      "source": [
        "def create_pairs(lst):\n",
        "    counts={}\n",
        "    for num in lst:\n",
        "        counts[num]=counts.get(num,0)+1\n",
        "        pairs=[(num,count) for num,count in counts.items()]\n",
        "        pairs.sort(key=lambda x:x[1])\n",
        "    return pairs\n",
        "input_list = [13, 12, 11, 13, 14, 13, 7, 7, 13, 14, 12]\n",
        "output_pairs = create_pairs(input_list)\n",
        "print(output_pairs)\n"
      ]
    },
    {
      "cell_type": "markdown",
      "metadata": {
        "id": "Y3RhYF13_9vi"
      },
      "source": [
        "# **B)Program using Functions**"
      ]
    },
    {
      "cell_type": "markdown",
      "metadata": {
        "id": "nMmE8hWCBxk2"
      },
      "source": [
        "# **Question 1**"
      ]
    },
    {
      "cell_type": "code",
      "execution_count": 7,
      "metadata": {
        "colab": {
          "base_uri": "https://localhost:8080/"
        },
        "id": "icG-XPj-_80a",
        "outputId": "a6fe204d-84ab-4da9-dbb6-89e1d3f5c310"
      },
      "outputs": [
        {
          "name": "stdout",
          "output_type": "stream",
          "text": [
            "23 is a prime number.\n"
          ]
        }
      ],
      "source": [
        "def is_prime(number):\n",
        "    if number < 2:\n",
        "        return False\n",
        "    for i in range(2, int(number ** 0.5) + 1):\n",
        "        if number % i == 0:\n",
        "            return False\n",
        "    return True\n",
        "num = int(input(\"Enter a number to check if it's prime: \"))\n",
        "if is_prime(num):\n",
        "    print(f\"{num} is a prime number.\")\n",
        "else:\n",
        "    print(f\"{num} is not a prime number.\")\n"
      ]
    },
    {
      "cell_type": "markdown",
      "metadata": {
        "id": "eyie_N1R__8d"
      },
      "source": [
        "# **Question 2**"
      ]
    },
    {
      "cell_type": "markdown",
      "metadata": {
        "id": "NNPlYeCCCxzO"
      },
      "source": [
        "a)Without recursive function"
      ]
    },
    {
      "cell_type": "code",
      "execution_count": null,
      "metadata": {
        "colab": {
          "base_uri": "https://localhost:8080/"
        },
        "id": "vDKvpm5ACtfs",
        "outputId": "d64d29be-7edd-4f99-d3f9-569772ef8b48"
      },
      "outputs": [
        {
          "name": "stdout",
          "output_type": "stream",
          "text": [
            "Enter a number to calculate its factorial (without recursion): 5\n",
            "The factorial of 5 is: 120\n"
          ]
        }
      ],
      "source": [
        "def factorial_without_recursion(n):\n",
        "    factorial = 1\n",
        "    for i in range(1, n + 1):\n",
        "        factorial *= i\n",
        "    return factorial\n",
        "num = int(input(\"Enter a number to calculate its factorial (without recursion): \"))\n",
        "print(f\"The factorial of {num} is: {factorial_without_recursion(num)}\")\n"
      ]
    },
    {
      "cell_type": "markdown",
      "metadata": {
        "id": "Ba-wD_xMC1h6"
      },
      "source": [
        "b)With Recursive function\n"
      ]
    },
    {
      "cell_type": "code",
      "execution_count": null,
      "metadata": {
        "colab": {
          "base_uri": "https://localhost:8080/"
        },
        "id": "3t8BNfyXACId",
        "outputId": "30b9a973-f0d7-49c8-f35e-4a6153cd6ef7"
      },
      "outputs": [
        {
          "name": "stdout",
          "output_type": "stream",
          "text": [
            "Enter a number to calculate its factorial (with recursion): 5\n",
            "The factorial of 5 is: 120\n"
          ]
        }
      ],
      "source": [
        "def factorial_with_recursion(n):\n",
        "    if n == 0:\n",
        "        return 1\n",
        "    else:\n",
        "        return n * factorial_with_recursion(n - 1)\n",
        "num = int(input(\"Enter a number to calculate its factorial (with recursion): \"))\n",
        "print(f\"The factorial of {num} is: {factorial_with_recursion(num)}\")"
      ]
    }
  ],
  "metadata": {
    "colab": {
      "provenance": []
    },
    "kernelspec": {
      "display_name": "Python 3",
      "name": "python3"
    },
    "language_info": {
      "codemirror_mode": {
        "name": "ipython",
        "version": 3
      },
      "file_extension": ".py",
      "mimetype": "text/x-python",
      "name": "python",
      "nbconvert_exporter": "python",
      "pygments_lexer": "ipython3",
      "version": "3.12.1"
    }
  },
  "nbformat": 4,
  "nbformat_minor": 0
}
