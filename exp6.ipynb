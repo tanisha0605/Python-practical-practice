{
  "cells": [
    {
      "cell_type": "markdown",
      "metadata": {
        "id": "sMDn-9jcfIkb"
      },
      "source": [
        "# **Question 1**"
      ]
    },
    {
      "cell_type": "markdown",
      "metadata": {
        "id": "1xi-vb3EfBKK"
      },
      "source": [
        "Make your exception class “Invalid Marks” which is thrown when marks obtained\n",
        "by student exceeds100"
      ]
    },
    {
      "cell_type": "code",
      "execution_count": null,
      "metadata": {
        "colab": {
          "base_uri": "https://localhost:8080/"
        },
        "id": "uPEKiv08fWOC",
        "outputId": "5a9d4b24-b3b8-4907-e16c-dfa37802f07c"
      },
      "outputs": [
        {
          "name": "stdout",
          "output_type": "stream",
          "text": [
            "Enter the marks obtained by the student: 98\n",
            "Enter the total marks: 100\n",
            "Percentage: 98.0\n"
          ]
        }
      ],
      "source": [
        "class InvalidMarks(Exception):\n",
        "    pass\n",
        "\n",
        "try:\n",
        "    num1 = float(input(\"Enter the marks obtained by the student: \"))\n",
        "    if num1 > 100:\n",
        "        raise InvalidMarks(\"Marks obtained cannot exceed 100\")\n",
        "\n",
        "    num2 = float(input(\"Enter the total marks: \"))\n",
        "    if num2 > 100:\n",
        "        raise InvalidMarks(\"Total marks cannot exceed 100\")\n",
        "\n",
        "    result = (num1 / num2) * 100\n",
        "\n",
        "    print(\"Percentage:\", result)\n",
        "\n",
        "except ValueError:\n",
        "    print(\"TypeError: Marks must be numerical.\")\n",
        "except InvalidMarks as e:\n",
        "    print(\"InvalidMarks:\", e)\n"
      ]
    },
    {
      "cell_type": "markdown",
      "metadata": {
        "id": "vhMWgyI8fW1i"
      },
      "source": [
        "# **Question 2**"
      ]
    },
    {
      "cell_type": "markdown",
      "metadata": {
        "id": "3jm5-sXhfoIS"
      },
      "source": [
        "Write a Python program that prompts the user to input two numbers and raises a\n",
        "TypeError exception if the inputs are not numerical"
      ]
    },
    {
      "cell_type": "code",
      "execution_count": 1,
      "metadata": {
        "colab": {
          "base_uri": "https://localhost:8080/"
        },
        "id": "tX7Waat0fk--",
        "outputId": "ba938859-59d9-4627-bfed-7e4ff627e904"
      },
      "outputs": [
        {
          "name": "stdout",
          "output_type": "stream",
          "text": [
            "TypeError: Inputs must be numerical.\n"
          ]
        }
      ],
      "source": [
        "try:\n",
        "    num1 = input(\"Enter the number: \")\n",
        "    if num1.isdigit():\n",
        "      increment=int(num1)+10\n",
        "      print(\"Result:\", increment)\n",
        "    else:\n",
        "      increment=num1+10\n",
        "except TypeError:\n",
        "    print(\"TypeError: Inputs must be numerical.\")\n"
      ]
    },
    {
      "cell_type": "markdown",
      "metadata": {
        "id": "Yp0tsxdbfZU6"
      },
      "source": [
        "# **Question 3**"
      ]
    },
    {
      "cell_type": "markdown",
      "metadata": {
        "id": "uLQKMIb1fqor"
      },
      "source": [
        "Create user defined exception to display proper message when value of (b*d) is zero."
      ]
    },
    {
      "cell_type": "code",
      "execution_count": null,
      "metadata": {
        "colab": {
          "base_uri": "https://localhost:8080/"
        },
        "id": "dDR4isZbfmBr",
        "outputId": "24fe06c3-defb-4455-a786-b2bb7c1b58b5"
      },
      "outputs": [
        {
          "name": "stdout",
          "output_type": "stream",
          "text": [
            "Enter the value of 'b': 0\n",
            "Enter the value of 'd': 9\n",
            "Error: The product of 'b' and 'd' cannot be zero.\n"
          ]
        }
      ],
      "source": [
        "class ZeroProductError(Exception):\n",
        "    def __str__(self):\n",
        "        return \"Error: The product of 'b' and 'd' cannot be zero.\"\n",
        "try:\n",
        "    b = float(input(\"Enter the value of 'b': \"))\n",
        "    d = float(input(\"Enter the value of 'd': \"))\n",
        "\n",
        "    if b * d == 0:\n",
        "        raise ZeroProductError\n",
        "    result=b*d\n",
        "    print(result)\n",
        "except ValueError:\n",
        "    print(\"Error: 'b' and 'd' must be numerical.\")\n",
        "except ZeroProductError as e:\n",
        "    print(e)\n"
      ]
    },
    {
      "cell_type": "markdown",
      "metadata": {
        "id": "T-ABi-znfbQp"
      },
      "source": [
        "# **Question 4**"
      ]
    },
    {
      "cell_type": "markdown",
      "metadata": {
        "id": "Q0hU-jgjftFr"
      },
      "source": [
        "Write a Python program that opens a file and handles a PermissionError exception if there\n",
        "is a permission issue.\n"
      ]
    },
    {
      "cell_type": "code",
      "execution_count": null,
      "metadata": {
        "colab": {
          "base_uri": "https://localhost:8080/"
        },
        "id": "4iHiryKKfmpz",
        "outputId": "608d33d8-42f7-400e-87ff-450ffe1adeff"
      },
      "outputs": [
        {
          "name": "stdout",
          "output_type": "stream",
          "text": [
            "FileNotFoundError: File not found.\n"
          ]
        }
      ],
      "source": [
        "try:\n",
        "    with open(\"hello.txt\", \"r\") as file:\n",
        "        contents = file.read()\n",
        "        print(contents)\n",
        "\n",
        "except PermissionError:\n",
        "    print(\"PermissionError: Permission denied to open the file.\")\n",
        "except FileNotFoundError:\n",
        "    print(\"FileNotFoundError: File not found.\")\n",
        "except Exception as e:\n",
        "    print(\"An error occurred:\", e)\n"
      ]
    },
    {
      "cell_type": "markdown",
      "metadata": {
        "id": "S60TseVbfhii"
      },
      "source": [
        "# **Question 5**"
      ]
    },
    {
      "cell_type": "markdown",
      "metadata": {
        "id": "Xe-8C2FUfv0z"
      },
      "source": [
        "Write a python program to calculate average of number using the assert statement that\n",
        "checks if the length of the numbers list is greater than zero. If the list is empty, the assert\n",
        "statement raises an AssertionError with the specific message"
      ]
    },
    {
      "cell_type": "code",
      "execution_count": 2,
      "metadata": {
        "colab": {
          "base_uri": "https://localhost:8080/"
        },
        "id": "I3edpjxVfnM7",
        "outputId": "135785f8-2f83-44e6-dcc5-7afe30e00c4e"
      },
      "outputs": [
        {
          "name": "stdout",
          "output_type": "stream",
          "text": [
            "Average: 5.2\n"
          ]
        }
      ],
      "source": [
        "def calculate_average(numbers):\n",
        "    assert numbers, \"The list must contain at least one number\"\n",
        "    return sum(numbers) / len(numbers)\n",
        "\n",
        "try:\n",
        "    numbers = [float(x) for x in input(\"Enter numbers separated by spaces: \").split()]\n",
        "    avg = calculate_average(numbers)\n",
        "    print(\"Average:\", avg)\n",
        "\n",
        "except ValueError:\n",
        "    print(\"Error: Please enter numerical values.\")\n",
        "except AssertionError as e:\n",
        "    print(\"AssertionError:\", e)\n"
      ]
    }
  ],
  "metadata": {
    "colab": {
      "provenance": []
    },
    "kernelspec": {
      "display_name": "Python 3",
      "name": "python3"
    },
    "language_info": {
      "codemirror_mode": {
        "name": "ipython",
        "version": 3
      },
      "file_extension": ".py",
      "mimetype": "text/x-python",
      "name": "python",
      "nbconvert_exporter": "python",
      "pygments_lexer": "ipython3",
      "version": "3.12.1"
    }
  },
  "nbformat": 4,
  "nbformat_minor": 0
}
