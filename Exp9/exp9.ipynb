{
 "cells": [
  {
   "cell_type": "markdown",
   "metadata": {},
   "source": [
    "\n",
    "2. WAP to copy contents of 1 file to another after converting text to same case (upper/ lower). Let user specify name of source and destination files.\n",
    "4. Write a function in Python to count words in a text file those are ending with alphabet \"e\".\n",
    "5. Write a function in Python to count uppercase character in a text file.\n",
    "6. Write a function in python to read the content from a text file \"poem.txt\" line by\n",
    "line and display the same on screen.\n",
    "7. Write a Python program to read first n lines of a file.\n",
    "8. Write a python program to find the longest word\n",
    "9. Write a Python program to count the frequency of words in a file.\n",
    "10. Write a function in python to count the number of lines from a text file \"story.txt\"\n",
    "which is not starting with an alphabet \"T\".\n",
    "Example: If the file \"story.txt\" contains the following lines: \n",
    "A boy is playing there. There is a playground.\n",
    "An aeroplane is in the sky.\n",
    "The sky is pink.\n",
    "Alphabets and numbers are allowed in the password.\n",
    "The function should display the output as 3"
   ]
  },
  {
   "cell_type": "markdown",
   "metadata": {},
   "source": [
    "1. WAP to accept name and roll number of students and store it in file. Read and display the stored data. Accept/ display should be done using menu. Previous data should be retained and new data should be appended at the EOF. Also check if file exists or not."
   ]
  },
  {
   "cell_type": "code",
   "execution_count": 2,
   "metadata": {},
   "outputs": [
    {
     "name": "stdout",
     "output_type": "stream",
     "text": [
      "\n",
      "Menu:\n",
      "1. Write student data\n",
      "2. Read student data\n",
      "3. Exit\n",
      "Student data\n",
      "Name is Tanisha and Roll number is 134\n",
      "\n",
      "Menu:\n",
      "1. Write student data\n",
      "2. Read student data\n",
      "3. Exit\n",
      "Student data\n",
      "Name is Tanisha and Roll number is 134\n",
      "\n",
      "Menu:\n",
      "1. Write student data\n",
      "2. Read student data\n",
      "3. Exit\n",
      "Exiting program.\n"
     ]
    }
   ],
   "source": [
    "def write_data():\n",
    "    try:\n",
    "        with open('student_data.txt','a') as file:\n",
    "            name=input(\"enter name of student:\")\n",
    "            roll_no=input(\"enter roll no of student:\")\n",
    "            file.write(f\"{name},{roll_no}\\n\")\n",
    "            print(\"Data written successfully\")\n",
    "    except IOError:\n",
    "        print(\"Error in writing data\")\n",
    "\n",
    "def read_data():\n",
    "    try:\n",
    "        with open('student_data.txt','r') as file:\n",
    "            data=file.readlines()\n",
    "            if not data:\n",
    "                print(\"No data available\")\n",
    "            else:\n",
    "                print(\"Student data\")\n",
    "                for line in data:\n",
    "                    name,roll_no=line.strip().split(',')\n",
    "                    print(f\"Name is {name} and Roll number is {roll_no}\")\n",
    "    except IOError:\n",
    "        print(\"Error in reading data\")\n",
    "\n",
    "def main():\n",
    "    while True:\n",
    "        print(\"\\nMenu:\")\n",
    "        print(\"1. Write student data\")\n",
    "        print(\"2. Read student data\")\n",
    "        print(\"3. Exit\")\n",
    "        choice = input(\"Enter your choice: \")\n",
    "\n",
    "        if choice == '1':\n",
    "            write_data()\n",
    "        elif choice == '2':\n",
    "            read_data()\n",
    "        elif choice == '3':\n",
    "            print(\"Exiting program.\")\n",
    "            break\n",
    "        else:\n",
    "            print(\"Invalid choice. Please enter again.\")\n",
    "\n",
    "main()\n"
   ]
  },
  {
   "cell_type": "markdown",
   "metadata": {},
   "source": [
    "3. Write a function in Python to read lines from a text file \"notes.txt\". Your function should find and display the occurrence of the word \"the\"."
   ]
  },
  {
   "cell_type": "code",
   "execution_count": 3,
   "metadata": {},
   "outputs": [
    {
     "name": "stdout",
     "output_type": "stream",
     "text": [
      "The word 'the' occurs 45 times in the file.\n"
     ]
    }
   ],
   "source": [
    "def find_occurences(file_name):\n",
    "    try:\n",
    "        with open(file_name, 'r') as file:\n",
    "            occurences=0\n",
    "            for line in file:\n",
    "                words=line.strip().split()\n",
    "                for word in words:\n",
    "                    if word.lower() == 'the':\n",
    "                        occurences+=1\n",
    "            print(f\"The word 'the' occurs {occurences} times in the file.\")\n",
    "    except FileNotFoundError:\n",
    "        print(f\"File '{file_name}' not found.\")\n",
    "    except IOError:\n",
    "        print(f\"Error occurred while reading the file '{file_name}'.\")\n",
    "\n",
    "# Example usage:\n",
    "find_occurences(\"notes.txt\")\n"
   ]
  }
 ],
 "metadata": {
  "kernelspec": {
   "display_name": "Python 3",
   "language": "python",
   "name": "python3"
  },
  "language_info": {
   "codemirror_mode": {
    "name": "ipython",
    "version": 3
   },
   "file_extension": ".py",
   "mimetype": "text/x-python",
   "name": "python",
   "nbconvert_exporter": "python",
   "pygments_lexer": "ipython3",
   "version": "3.12.1"
  }
 },
 "nbformat": 4,
 "nbformat_minor": 2
}
