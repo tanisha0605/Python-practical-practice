{
 "cells": [
  {
   "cell_type": "markdown",
   "metadata": {},
   "source": [
    "Question 1\n"
   ]
  },
  {
   "cell_type": "code",
   "execution_count": 3,
   "metadata": {},
   "outputs": [
    {
     "name": "stdout",
     "output_type": "stream",
     "text": [
      "Tanisha Kanal\n"
     ]
    }
   ],
   "source": [
    "a=input(\"Enter your first name:\")\n",
    "b=input(\"Enter your last name:\")\n",
    "\n",
    "print(a+\" \"+b)"
   ]
  },
  {
   "cell_type": "markdown",
   "metadata": {},
   "source": [
    "Question 2"
   ]
  },
  {
   "cell_type": "code",
   "execution_count": 4,
   "metadata": {},
   "outputs": [
    {
     "name": "stdout",
     "output_type": "stream",
     "text": [
      "23.231625\n"
     ]
    }
   ],
   "source": [
    "x=2.55\n",
    "print(3*x**3-5*x**2+6)"
   ]
  },
  {
   "cell_type": "markdown",
   "metadata": {},
   "source": [
    "Question 3"
   ]
  },
  {
   "cell_type": "code",
   "execution_count": 7,
   "metadata": {},
   "outputs": [
    {
     "name": "stdout",
     "output_type": "stream",
     "text": [
      "The middle 3 characters are nis\n"
     ]
    }
   ],
   "source": [
    "str=input(\"Enter a string\")\n",
    "str_len=len(str)//2\n",
    "\n",
    "print(\"The middle 3 characters are\",str[str_len-1:str_len+2])"
   ]
  },
  {
   "cell_type": "markdown",
   "metadata": {},
   "source": [
    "Question 4"
   ]
  },
  {
   "cell_type": "code",
   "execution_count": 11,
   "metadata": {},
   "outputs": [
    {
     "name": "stdout",
     "output_type": "stream",
     "text": [
      "yonTPH\n"
     ]
    }
   ],
   "source": [
    "string=\"PyTHon\"\n",
    "a=\"\".join(sorted(string,reverse=True))\n",
    "\n",
    "print(a)"
   ]
  },
  {
   "cell_type": "markdown",
   "metadata": {},
   "source": [
    "Question 5"
   ]
  },
  {
   "cell_type": "code",
   "execution_count": 14,
   "metadata": {},
   "outputs": [
    {
     "name": "stdout",
     "output_type": "stream",
     "text": [
      "Letters: 14\n",
      "Digits: 3\n",
      "Special characters: 13\n"
     ]
    }
   ],
   "source": [
    "str=input(\"Enter a string\")\n",
    "letters=0\n",
    "digits=0\n",
    "special_characters=0\n",
    "\n",
    "for i in str:\n",
    "    if (i.isalpha()):\n",
    "        letters=letters+1\n",
    "    elif (i.isdigit()):\n",
    "        digits=digits+1\n",
    "    else:\n",
    "        special_characters=special_characters+1\n",
    "\n",
    "print(\"Letters:\",letters)\n",
    "print(\"Digits:\",digits)\n",
    "print(\"Special characters:\",special_characters)"
   ]
  },
  {
   "cell_type": "markdown",
   "metadata": {},
   "source": [
    "Question 6"
   ]
  },
  {
   "cell_type": "code",
   "execution_count": 15,
   "metadata": {},
   "outputs": [
    {
     "name": "stdout",
     "output_type": "stream",
     "text": [
      "{'T': 1, 'a': 5, 'n': 2, 'i': 1, 's': 1, 'h': 1, ' ': 2, 'S': 1, 'u': 1, 'r': 1, 'j': 1, 'K': 1, 'l': 1}\n"
     ]
    }
   ],
   "source": [
    "str=input(\"Enter a string\")\n",
    "all_freq={}\n",
    "for i in str:\n",
    "    if i in all_freq:\n",
    "        all_freq[i]+=1\n",
    "    else:\n",
    "        all_freq[i]=1\n",
    "\n",
    "print(all_freq)"
   ]
  },
  {
   "cell_type": "markdown",
   "metadata": {},
   "source": [
    "Question 7"
   ]
  },
  {
   "cell_type": "code",
   "execution_count": 16,
   "metadata": {},
   "outputs": [
    {
     "name": "stdout",
     "output_type": "stream",
     "text": [
      "34\n"
     ]
    }
   ],
   "source": [
    "str=input(\"Enter a string:\")\n",
    "abc=input(\"Enter what to find last location of:\")\n",
    "\n",
    "print(str.rindex(abc))"
   ]
  },
  {
   "cell_type": "markdown",
   "metadata": {},
   "source": [
    "Question 8"
   ]
  },
  {
   "cell_type": "code",
   "execution_count": 18,
   "metadata": {},
   "outputs": [
    {
     "name": "stdout",
     "output_type": "stream",
     "text": [
      "123456789\n"
     ]
    }
   ],
   "source": [
    "str=input(\"Enter a string\")\n",
    "print(\"\".join(i for i in str if i.isdigit()))"
   ]
  },
  {
   "cell_type": "markdown",
   "metadata": {},
   "source": [
    "Question 9"
   ]
  },
  {
   "cell_type": "code",
   "execution_count": 21,
   "metadata": {},
   "outputs": [
    {
     "name": "stdout",
     "output_type": "stream",
     "text": [
      "Mary#always#stoodfirl#stin#class\n"
     ]
    }
   ],
   "source": [
    "str=input(\"Enter a string\")\n",
    "new_str=\"\"\n",
    "for i in str:\n",
    "    if not (i.isdigit() or i.isalpha()):\n",
    "        new_str=new_str+'#'\n",
    "    else:\n",
    "        new_str+=i\n",
    "\n",
    "print(new_str)"
   ]
  },
  {
   "cell_type": "markdown",
   "metadata": {},
   "source": [
    "Question 10"
   ]
  },
  {
   "cell_type": "code",
   "execution_count": 24,
   "metadata": {},
   "outputs": [
    {
     "name": "stdout",
     "output_type": "stream",
     "text": [
      "Tanisha-Kanal-----2355\n"
     ]
    }
   ],
   "source": [
    "str=input(\"Enter a string\")\n",
    "new_str=\"\"\n",
    "\n",
    "new_str=str.replace(' ','-')\n",
    "\n",
    "print(new_str)"
   ]
  }
 ],
 "metadata": {
  "kernelspec": {
   "display_name": "Python 3",
   "language": "python",
   "name": "python3"
  },
  "language_info": {
   "codemirror_mode": {
    "name": "ipython",
    "version": 3
   },
   "file_extension": ".py",
   "mimetype": "text/x-python",
   "name": "python",
   "nbconvert_exporter": "python",
   "pygments_lexer": "ipython3",
   "version": "3.12.1"
  }
 },
 "nbformat": 4,
 "nbformat_minor": 2
}
