{
 "cells": [
  {
   "cell_type": "markdown",
   "metadata": {},
   "source": [
    "\n",
    "\n",
    "\n",
    "\n",
    "\n",
    "\n",
    "\n",
    "\n",
    "\n",
    "\n",
    "\n",
    "\n",
    "\n",
    "\n"
   ]
  },
  {
   "cell_type": "code",
   "execution_count": 2,
   "metadata": {},
   "outputs": [],
   "source": [
    "import pandas as pd\n",
    "df=pd.read_csv('practical.csv')"
   ]
  },
  {
   "cell_type": "markdown",
   "metadata": {},
   "source": [
    "1. How many men and women (sex feature) are represented in this dataset?"
   ]
  },
  {
   "cell_type": "code",
   "execution_count": 3,
   "metadata": {},
   "outputs": [
    {
     "data": {
      "text/plain": [
       "gender\n",
       "Male      32650\n",
       "Female    16192\n",
       "Name: count, dtype: int64"
      ]
     },
     "execution_count": 3,
     "metadata": {},
     "output_type": "execute_result"
    }
   ],
   "source": [
    "df.gender.value_counts()"
   ]
  },
  {
   "cell_type": "markdown",
   "metadata": {},
   "source": [
    "2. What is the average age (age feature) of women?"
   ]
  },
  {
   "cell_type": "code",
   "execution_count": 9,
   "metadata": {},
   "outputs": [
    {
     "data": {
      "text/plain": [
       "36.92798913043478"
      ]
     },
     "execution_count": 9,
     "metadata": {},
     "output_type": "execute_result"
    }
   ],
   "source": [
    "df_sex_mask = df[\"gender\"] == \"Female\"\n",
    "df[df_sex_mask].age.mean()"
   ]
  },
  {
   "cell_type": "markdown",
   "metadata": {},
   "source": [
    "3. What is the percentage of German citizens (native-country feature)?"
   ]
  },
  {
   "cell_type": "code",
   "execution_count": 11,
   "metadata": {},
   "outputs": [
    {
     "name": "stdout",
     "output_type": "stream",
     "text": [
      "0.421768150362393\n"
     ]
    }
   ],
   "source": [
    "df_german_mask=df[\"native-country\"]==\"Germany\"\n",
    "ans=len(df[df_german_mask])/len(df) * 100\n",
    "print(ans)"
   ]
  },
  {
   "cell_type": "markdown",
   "metadata": {},
   "source": [
    "4. What are the mean and standard deviation of age for those who earn more than 50K per\n",
    "year (salary feature) and those who earn less than 50K per year?"
   ]
  },
  {
   "cell_type": "code",
   "execution_count": 14,
   "metadata": {},
   "outputs": [
    {
     "name": "stdout",
     "output_type": "stream",
     "text": [
      "44.275177547702576\n",
      "10.55898337028787\n",
      "36.87218409366169\n",
      "14.104118026101544\n"
     ]
    }
   ],
   "source": [
    "high_salary_mask=df[\"income\"]==\">50K\"\n",
    "low_salary_mask=df[\"income\"]==\"<=50K\"\n",
    "\n",
    "print(df[high_salary_mask].age.mean())\n",
    "print(df[high_salary_mask].age.std())\n",
    "print(df[low_salary_mask].age.mean())\n",
    "print(df[low_salary_mask].age.std())"
   ]
  },
  {
   "cell_type": "markdown",
   "metadata": {},
   "source": [
    "5. Is it true that people who earn more than 50K have at least high school education? (education – Bachelors, Prof-school, Assoc-acdm, Assoc-voc,Masters or Doctorate feature)"
   ]
  },
  {
   "cell_type": "markdown",
   "metadata": {},
   "source": [
    "6. Display age statistics for each race (racefeature) and each gender (sexfeature). Use groupby() and describe(). Find the maximum age of men of Amer-Indian-Eskimo race."
   ]
  },
  {
   "cell_type": "code",
   "execution_count": 18,
   "metadata": {},
   "outputs": [
    {
     "name": "stdout",
     "output_type": "stream",
     "text": [
      "                             count       mean        std   min   25%   50%  \\\n",
      "race               gender                                                    \n",
      "Amer-Indian-Eskimo Female    185.0  36.237838  12.840056  17.0  26.0  35.0   \n",
      "                   Male      285.0  36.989474  11.703943  17.0  29.0  35.0   \n",
      "Asian-Pac-Islander Female    517.0  35.657640  12.637799  17.0  25.0  34.0   \n",
      "                   Male     1002.0  38.994012  12.824878  18.0  29.0  37.0   \n",
      "Black              Female   2308.0  37.905979  12.736001  17.0  28.0  36.0   \n",
      "                   Male     2377.0  37.922592  13.036981  17.0  28.0  36.0   \n",
      "Other              Female    155.0  31.212903  11.233061  17.0  23.0  29.0   \n",
      "                   Male      251.0  35.167331  11.808297  17.0  26.0  32.0   \n",
      "White              Female  13027.0  36.882935  14.454178  17.0  25.0  35.0   \n",
      "                   Male    28735.0  39.704507  13.475250  17.0  29.0  38.0   \n",
      "\n",
      "                            75%   max  \n",
      "race               gender              \n",
      "Amer-Indian-Eskimo Female  46.0  80.0  \n",
      "                   Male    44.0  82.0  \n",
      "Asian-Pac-Islander Female  44.0  81.0  \n",
      "                   Male    46.0  90.0  \n",
      "Black              Female  46.0  90.0  \n",
      "                   Male    46.0  90.0  \n",
      "Other              Female  37.0  74.0  \n",
      "                   Male    42.5  77.0  \n",
      "White              Female  47.0  90.0  \n",
      "                   Male    49.0  90.0  \n",
      "82\n"
     ]
    }
   ],
   "source": [
    "print(df.groupby([\"race\", \"gender\"]) [\"age\"].describe())\n",
    "\n",
    "print(df[(df[\"race\"]=='Amer-Indian-Eskimo') & (df[\"gender\"]=='Male')][\"age\"].max())"
   ]
  },
  {
   "cell_type": "markdown",
   "metadata": {},
   "source": [
    "7. Among whom is the proportion of those who earn a lot (>50K) greater: married or single men (marital-status feature)? Consider as married those who have a marital- status starting with Married (Married-civ-spouse, Married-spouse-absent or Married-AF-spouse), the rest are considered bachelors"
   ]
  },
  {
   "cell_type": "code",
   "execution_count": 19,
   "metadata": {},
   "outputs": [
    {
     "name": "stdout",
     "output_type": "stream",
     "text": [
      "The Proportional of People with income > 50K and married is more\n"
     ]
    }
   ],
   "source": [
    "a=len(df[df[\"income\"] == \">50K\"])\n",
    "Rich_married=len(df[(df[\"income\"]==\">50K\") & (df[\"marital-status\"].isin([\"Married-civ-spouse\",\"Married-spouse-absent\",\"Married-AF-spouse\"]))])\n",
    "Rich_single=a-Rich_married\n",
    "if(Rich_married > Rich_single):\n",
    "    print(\"The Proportional of People with income > 50K and married is more\")\n",
    "else:\n",
    "    print(\"The Proportional of People with income > 50K and single is more\")"
   ]
  },
  {
   "cell_type": "markdown",
   "metadata": {},
   "source": [
    "8. What is the maximum number of hours a person works per week (hours-per-week feature)?"
   ]
  },
  {
   "cell_type": "code",
   "execution_count": 20,
   "metadata": {},
   "outputs": [
    {
     "data": {
      "text/plain": [
       "99"
      ]
     },
     "execution_count": 20,
     "metadata": {},
     "output_type": "execute_result"
    }
   ],
   "source": [
    "df[\"hours-per-week\"].max()"
   ]
  },
  {
   "cell_type": "markdown",
   "metadata": {},
   "source": [
    "9. How many people work such a number of hours, and what is the percentage of those who earn a lot (>50K) among them?"
   ]
  },
  {
   "cell_type": "markdown",
   "metadata": {},
   "source": [
    "10. Count the average time of work (hours-per-week) for those who earn a little and a lot (salary) for each country (native-country). What will these be for Japan?"
   ]
  }
 ],
 "metadata": {
  "kernelspec": {
   "display_name": "Python 3",
   "language": "python",
   "name": "python3"
  },
  "language_info": {
   "codemirror_mode": {
    "name": "ipython",
    "version": 3
   },
   "file_extension": ".py",
   "mimetype": "text/x-python",
   "name": "python",
   "nbconvert_exporter": "python",
   "pygments_lexer": "ipython3",
   "version": "3.12.1"
  }
 },
 "nbformat": 4,
 "nbformat_minor": 2
}
