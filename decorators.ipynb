{
 "cells": [
  {
   "cell_type": "markdown",
   "metadata": {},
   "source": [
    "Write a  Python program to create a decorator that logs the arguments and return value of a function."
   ]
  },
  {
   "cell_type": "code",
   "execution_count": 23,
   "metadata": {},
   "outputs": [
    {
     "name": "stdout",
     "output_type": "stream",
     "text": [
      "Calling multiply_numbers with args: (10, 20), kwargs: {}\n",
      "multiply_numbers returned: 200\n",
      "Result: 200\n"
     ]
    }
   ],
   "source": [
    "def decorator(func):\n",
    "    def wrap(*args, **kwargs):\n",
    "        # Log the function name and arguments\n",
    "        print(f\"Calling {func.__name__} with args: {args}, kwargs: {kwargs}\")\n",
    "        \n",
    "        # Call the original function\n",
    "        result = func(*args, **kwargs)\n",
    "        \n",
    "        # Log the return value\n",
    "        print(f\"{func.__name__} returned: {result}\")\n",
    "        \n",
    "        # Return the result\n",
    "        return result\n",
    "    return wrap\n",
    "\n",
    "# Example usage\n",
    "@decorator\n",
    "def multiply_numbers(x, y):\n",
    "    return x * y\n",
    "\n",
    "# Call the decorated function\n",
    "result = multiply_numbers(10, 20)\n",
    "print(\"Result:\", result)"
   ]
  },
  {
   "cell_type": "markdown",
   "metadata": {},
   "source": [
    " Write a  Python program to create a decorator function to measure the execution time of a function"
   ]
  },
  {
   "cell_type": "code",
   "execution_count": 24,
   "metadata": {},
   "outputs": [
    {
     "name": "stdout",
     "output_type": "stream",
     "text": [
      "hello\n",
      "Execution time is 0.00013589859008789062 seconds\n"
     ]
    }
   ],
   "source": [
    "import time\n",
    "def decorator(func):\n",
    "    def wrapper(*args,**kwargs):\n",
    "        start_time=time.time()\n",
    "        result=func(*args,**kwargs)\n",
    "        end_time=time.time()\n",
    "        print(f\"Execution time is {end_time-start_time} seconds\")\n",
    "        return result\n",
    "    return wrapper\n",
    "\n",
    "@decorator\n",
    "def function():\n",
    "    print(\"hello\")\n",
    "    \n",
    "\n",
    "function()"
   ]
  },
  {
   "cell_type": "markdown",
   "metadata": {},
   "source": [
    "Write a  Python program to create a decorator to convert the return value of a function to a specified data type"
   ]
  },
  {
   "cell_type": "code",
   "execution_count": 25,
   "metadata": {},
   "outputs": [
    {
     "name": "stdout",
     "output_type": "stream",
     "text": [
      "Result: 30 <class 'int'>\n",
      "Result: Python Decorator <class 'str'>\n"
     ]
    }
   ],
   "source": [
    "def convert_to_data_type(data_type):\n",
    "    def decorator(func):\n",
    "        def wrapper(*args, **kwargs):\n",
    "            result = func(*args, **kwargs)\n",
    "            return data_type(result)\n",
    "        return wrapper\n",
    "    return decorator\n",
    "\n",
    "@convert_to_data_type(int)\n",
    "def add_numbers(x, y):\n",
    "    return x + y\n",
    "\n",
    "result = add_numbers(10, 20)\n",
    "print(\"Result:\", result, type(result))\n",
    "\n",
    "@convert_to_data_type(str)\n",
    "def concatenate_strings(x, y):\n",
    "    return x + y\n",
    "\n",
    "result = concatenate_strings(\"Python\", \" Decorator\")\n",
    "print(\"Result:\", result, type(result))\n"
   ]
  },
  {
   "cell_type": "markdown",
   "metadata": {},
   "source": [
    " Write a Python program that implements a decorator to cache the result of a function."
   ]
  },
  {
   "cell_type": "code",
   "execution_count": 26,
   "metadata": {},
   "outputs": [
    {
     "name": "stdout",
     "output_type": "stream",
     "text": [
      "Calculating the product of two numbers...\n",
      "20\n",
      "Retrieving result from cache.....\n",
      "20\n",
      "Calculating the product of two numbers...\n",
      "35\n",
      "Retrieving result from cache.....\n",
      "35\n",
      "Calculating the product of two numbers...\n",
      "-21\n",
      "Retrieving result from cache.....\n",
      "-21\n"
     ]
    }
   ],
   "source": [
    "def cache_result(func):\n",
    "    cache={}\n",
    "    def wrapper(*args,**kwargs):\n",
    "        key = (*args, *kwargs.items())\n",
    "\n",
    "        if key in cache:\n",
    "            print(\"Retrieving result from cache.....\")\n",
    "            return cache[key]\n",
    "        \n",
    "        result=func(*args,**kwargs)\n",
    "        cache[key]=result\n",
    "        return result\n",
    "    return wrapper\n",
    "\n",
    "\n",
    "# Example usage\n",
    "\n",
    "@cache_result\n",
    "def calculate_multiply(x, y):\n",
    "    print(\"Calculating the product of two numbers...\")\n",
    "    return x * y\n",
    "\n",
    "# Call the decorated function multiple times\n",
    "print(calculate_multiply(4, 5))  # Calculation is performed\n",
    "print(calculate_multiply(4, 5))  # Result is retrieved from cache\n",
    "print(calculate_multiply(5, 7))  # Calculation is performed\n",
    "print(calculate_multiply(5, 7))  # Result is retrieved from cache\n",
    "print(calculate_multiply(-3, 7))  # Calculation is performed\n",
    "print(calculate_multiply(-3, 7))  # Result is retrieved from cache\n"
   ]
  },
  {
   "cell_type": "markdown",
   "metadata": {},
   "source": [
    "Write a Python program that implements a decorator to validate function arguments based on a given condition"
   ]
  },
  {
   "cell_type": "code",
   "execution_count": 27,
   "metadata": {},
   "outputs": [
    {
     "name": "stdout",
     "output_type": "stream",
     "text": [
      "25\n"
     ]
    },
    {
     "ename": "ValueError",
     "evalue": "Invalid arguments passed to function",
     "output_type": "error",
     "traceback": [
      "\u001b[0;31m---------------------------------------------------------------------------\u001b[0m",
      "\u001b[0;31mValueError\u001b[0m                                Traceback (most recent call last)",
      "Cell \u001b[0;32mIn[27], line 16\u001b[0m\n\u001b[1;32m     13\u001b[0m     \u001b[38;5;28;01mreturn\u001b[39;00m x\u001b[38;5;241m*\u001b[39m\u001b[38;5;241m*\u001b[39m\u001b[38;5;241m2\u001b[39m\n\u001b[1;32m     15\u001b[0m \u001b[38;5;28mprint\u001b[39m(my_function(\u001b[38;5;241m5\u001b[39m))\n\u001b[0;32m---> 16\u001b[0m \u001b[38;5;28mprint\u001b[39m(\u001b[43mmy_function\u001b[49m\u001b[43m(\u001b[49m\u001b[38;5;241;43m-\u001b[39;49m\u001b[38;5;241;43m3\u001b[39;49m\u001b[43m)\u001b[49m)\n",
      "Cell \u001b[0;32mIn[27], line 7\u001b[0m, in \u001b[0;36mvalidate_arguments.<locals>.decorator.<locals>.wrapper\u001b[0;34m(*args, **kwargs)\u001b[0m\n\u001b[1;32m      5\u001b[0m     \u001b[38;5;28;01mreturn\u001b[39;00m func(\u001b[38;5;241m*\u001b[39margs,\u001b[38;5;241m*\u001b[39m\u001b[38;5;241m*\u001b[39mkwargs)\n\u001b[1;32m      6\u001b[0m \u001b[38;5;28;01melse\u001b[39;00m:\n\u001b[0;32m----> 7\u001b[0m     \u001b[38;5;28;01mraise\u001b[39;00m \u001b[38;5;167;01mValueError\u001b[39;00m(\u001b[38;5;124m\"\u001b[39m\u001b[38;5;124mInvalid arguments passed to function\u001b[39m\u001b[38;5;124m\"\u001b[39m)\n",
      "\u001b[0;31mValueError\u001b[0m: Invalid arguments passed to function"
     ]
    }
   ],
   "source": [
    "def validate_arguments(condition):\n",
    "    def decorator(func):\n",
    "        def wrapper(*args,**kwargs):\n",
    "            if condition(*args,**kwargs):\n",
    "                return func(*args,**kwargs)\n",
    "            else:\n",
    "                raise ValueError(\"Invalid arguments passed to function\")\n",
    "        return wrapper\n",
    "    return decorator\n",
    "\n",
    "@validate_arguments(lambda x:x>0)\n",
    "def my_function(x):\n",
    "    return x**2\n",
    "\n",
    "print(my_function(5))\n",
    "print(my_function(-3))\n",
    "\n"
   ]
  },
  {
   "cell_type": "markdown",
   "metadata": {},
   "source": [
    "Write a Python program that implements a decorator to retry a function multiple times in case of failure."
   ]
  },
  {
   "cell_type": "code",
   "execution_count": 34,
   "metadata": {},
   "outputs": [
    {
     "name": "stdout",
     "output_type": "stream",
     "text": [
      "Attempt 1/5 failed: Random failure\n",
      "Attempt 2/5 failed: Random failure\n",
      "Attempt 3/5 failed: Random failure\n",
      "Function executed successfully: Success\n"
     ]
    }
   ],
   "source": [
    "import time\n",
    "\n",
    "def retry(max_retries=3, delay=1):\n",
    "    def decorator_retry(func):\n",
    "        def wrapper_retry(*args, **kwargs):\n",
    "            attempts = 0\n",
    "            while attempts < max_retries:\n",
    "                try:\n",
    "                    return func(*args, **kwargs)\n",
    "                except Exception as e:\n",
    "                    print(f\"Attempt {attempts + 1}/{max_retries} failed: {e}\")\n",
    "                    time.sleep(delay)\n",
    "                    attempts += 1\n",
    "            raise RuntimeError(f\"Failed after {max_retries} attempts\")\n",
    "        return wrapper_retry\n",
    "    return decorator_retry\n",
    "\n",
    "# Example usage:\n",
    "@retry(max_retries=5, delay=2)\n",
    "def example_function():\n",
    "    import random\n",
    "    if random.random() < 0.5:\n",
    "        raise ValueError(\"Random failure\")\n",
    "    return \"Success\"\n",
    "\n",
    "# Call the decorated function\n",
    "try:\n",
    "    result = example_function()\n",
    "    print(\"Function executed successfully:\", result)\n",
    "except RuntimeError as e:\n",
    "    print(e)\n"
   ]
  },
  {
   "cell_type": "markdown",
   "metadata": {},
   "source": [
    " Write a  Python program that implements a decorator to add logging functionality to a function"
   ]
  },
  {
   "cell_type": "code",
   "execution_count": 35,
   "metadata": {},
   "outputs": [
    {
     "name": "stdout",
     "output_type": "stream",
     "text": [
      "Calling add_numbers with args: (200, 300), kwargs: {}\n",
      "add_numbers returned: 500\n",
      "Result: 500\n"
     ]
    }
   ],
   "source": [
    "def add_logging(func):\n",
    "    def wrapper(*args, **kwargs):\n",
    "        # Log the function name and arguments\n",
    "        print(f\"Calling {func.__name__} with args: {args}, kwargs: {kwargs}\")\n",
    "        \n",
    "        # Call the original function\n",
    "        result = func(*args, **kwargs)\n",
    "        \n",
    "        # Log the return value\n",
    "        print(f\"{func.__name__} returned: {result}\")\n",
    "        \n",
    "        # Return the result\n",
    "        return result\n",
    "    return wrapper\n",
    "\n",
    "# Example usage\n",
    "@add_logging\n",
    "def add_numbers(x, y):\n",
    "    return x + y\n",
    "\n",
    "# Call the decorated function\n",
    "result = add_numbers(200, 300)\n",
    "print(\"Result:\", result)\n"
   ]
  },
  {
   "cell_type": "markdown",
   "metadata": {},
   "source": [
    "Write a Python program that implements a decorator to handle exceptions raised by a function and provide a default response."
   ]
  },
  {
   "cell_type": "code",
   "execution_count": 36,
   "metadata": {},
   "outputs": [
    {
     "name": "stdout",
     "output_type": "stream",
     "text": [
      "Exception occurred: division by zero\n",
      "Result: An error occurred!\n"
     ]
    }
   ],
   "source": [
    "def handle_exceptions(default_response):\n",
    "    def decorator(func):\n",
    "        def wrapper(*args, **kwargs):\n",
    "            try:\n",
    "                # Call the original function\n",
    "                return func(*args, **kwargs)\n",
    "            except Exception as e:\n",
    "                # Handle the exception and provide the default response\n",
    "                print(f\"Exception occurred: {e}\")\n",
    "                return default_response\n",
    "        return wrapper\n",
    "    return decorator\n",
    "\n",
    "# Example usage\n",
    "@handle_exceptions(default_response=\"An error occurred!\")\n",
    "def divide_numbers(x, y):\n",
    "    return x / y\n",
    "\n",
    "# Call the decorated function\n",
    "result = divide_numbers(7, 0)  # This will raise a ZeroDivisionError\n",
    "print(\"Result:\", result)\n"
   ]
  },
  {
   "cell_type": "markdown",
   "metadata": {},
   "source": [
    " Write a Python program that implements a decorator to provide caching with expiration time for a function."
   ]
  },
  {
   "cell_type": "code",
   "execution_count": 38,
   "metadata": {},
   "outputs": [
    {
     "name": "stdout",
     "output_type": "stream",
     "text": [
      "Calculating product of two numbers...\n",
      "115\n",
      "Retrieving result from cache...\n",
      "115\n",
      "Calculating product of two numbers...\n",
      "115\n"
     ]
    }
   ],
   "source": [
    "import time\n",
    "\n",
    "def cache_with_expiry(expiry_time):\n",
    "    def decorator(func):\n",
    "        cache = {}\n",
    "        def wrapper(*args, **kwargs):\n",
    "            key = (*args, *kwargs.items())\n",
    "            if key in cache:\n",
    "                value, timestamp = cache[key]\n",
    "                if time.time() - timestamp < expiry_time:\n",
    "                    print(\"Retrieving result from cache...\")\n",
    "                    return value\n",
    "            result = func(*args, **kwargs)\n",
    "            cache[key] = (result, time.time())\n",
    "            return result\n",
    "        return wrapper\n",
    "    return decorator\n",
    "\n",
    "# Example usage\n",
    "\n",
    "@cache_with_expiry(expiry_time=5)  # Cache expiry time set to 5 seconds\n",
    "def calculate_multiply(x, y):\n",
    "    print(\"Calculating product of two numbers...\")\n",
    "    return x * y\n",
    "\n",
    "# Call the decorated function multiple times\n",
    "print(calculate_multiply(23, 5))  # Calculation is performed\n",
    "print(calculate_multiply(23, 5))  # Result is retrieved from cache\n",
    "time.sleep(5)\n",
    "print(calculate_multiply(23, 5))  # Calculation is performed (cache expired)\n"
   ]
  }
 ],
 "metadata": {
  "kernelspec": {
   "display_name": "Python 3",
   "language": "python",
   "name": "python3"
  },
  "language_info": {
   "codemirror_mode": {
    "name": "ipython",
    "version": 3
   },
   "file_extension": ".py",
   "mimetype": "text/x-python",
   "name": "python",
   "nbconvert_exporter": "python",
   "pygments_lexer": "ipython3",
   "version": "3.12.1"
  }
 },
 "nbformat": 4,
 "nbformat_minor": 2
}
